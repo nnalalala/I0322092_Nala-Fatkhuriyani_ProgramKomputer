{
 "cells": [
  {
   "cell_type": "code",
   "execution_count": 4,
   "metadata": {},
   "outputs": [
    {
     "name": "stdout",
     "output_type": "stream",
     "text": [
      "Nala Fatkhuriyani\n",
      "I0322092\n",
      "C\n"
     ]
    }
   ],
   "source": [
    "print(input(\"Nama: \"))\n",
    "print(input(\"NIM: \"))\n",
    "print(input(\"Kelas: \"))"
   ]
  },
  {
   "attachments": {},
   "cell_type": "markdown",
   "metadata": {},
   "source": [
    "## 1."
   ]
  },
  {
   "attachments": {},
   "cell_type": "markdown",
   "metadata": {},
   "source": [
    "buatlah program sederhana untuk:\n",
    "* **A** mencari massa jika diketahui nilai energi potensial, percepatan gravitasi, dan ketinggian benda! beserta rumus nya!\n",
    "* **B** mencari gaya apung jika diketahui massa jenis, tinggi, panjang, dan lebar benda serta percepatan gravitasi dan contohnya! beserta rumus nya!\n",
    "* **C** Tulis program Python untuk menghitung luas dari segi lima sama sisi!\n",
    "\n",
    "> *note* : rumus, contoh, dan nilai dari tiap variabel ditentukan oleh kalian sendiri dan gunakan satuan baku (SI) untuk menghitung nilai dari tiap variabel"
   ]
  },
  {
   "cell_type": "code",
   "execution_count": null,
   "metadata": {},
   "outputs": [],
   "source": [
    "#A menghitung massa apabila diketahui energi potensial, percepatan gravitasi dan ketinggian benda\n",
    "\n",
    "ep =float(input(\"masukkan besar energi potensial=\"))\n",
    "g  =float(input(\"masukan percepatan gravitasi bumi= \" ))\n",
    "h  =float(input(\"masukan besar ketinggian benda= \"))\n",
    "\n",
    "m  = ep / (g * h)\n",
    "print(f\"Nilai Energi Potensial =\",ep,\"Joule\")\n",
    "print(f\"Nilai Gravitasi =\",g,\"m/s^2\")\n",
    "print(f\"Nilai Ketinggian Benda=\",h,\"m\")\n",
    "\n",
    "print(f\"Maka Massa Benda yang didapat =\",m,\"kg\")"
   ]
  },
  {
   "cell_type": "code",
   "execution_count": null,
   "metadata": {},
   "outputs": [],
   "source": [
    "#B menghitung gaya apung apabila diketahui massa jenis, tinggi, panjang, lebar benda, dan percepatan gravitasi\n",
    "\n",
    "mj   =float(input(\"masukkan besar massa jenis=\\t\"))\n",
    "g    =float(input(\"masukan besar percepatan gravitasi=\\t\"))\n",
    "t    =float(input(\"masukan besar tinggi=\\t\"))\n",
    "p    =float(input(\"masukan besar panjang=\\t\"))\n",
    "l    =float(input(\"masukan besar lebar=\\t\"))\n",
    "\n",
    "v =(p * l * t)      \n",
    "gayapung =(mj * v * g)\n",
    "\n",
    "print(f\"Nilai massa jenis zat cair adalah\",mj,\"Kg/m^3\")\n",
    "print(f\"Nilai percepatan gravitasi adalah\",g,\"m/s^2\")\n",
    "\n",
    "print(f\"Tinggi benda adalah\",t,\"m\")\n",
    "print(f\"Panjang benda adalah\",p,\"m\")\n",
    "print(f\"Lebar benda adalah\",l,\"m\")\n",
    "\n",
    "print(f\"Nilai volume benda adalah\",v,\"m\")\n",
    "print(f\"Maka hasil nilai gaya apung adalah\",gayapung,\"N\")\n",
    "\n",
    "print(\"======================================\")"
   ]
  },
  {
   "cell_type": "code",
   "execution_count": null,
   "metadata": {},
   "outputs": [],
   "source": [
    "#C menghitung luas segi lima sama sisi\n",
    "\n",
    "sisisegi5 =float(input(\"masukan sisi segi lima=\\t\"))\n",
    "luassegi5 =((5 * sisisegi5 ** 2)//2.90617)\n",
    "\n",
    "print(f\"sisi dari segi lima sama sisi adalah\",sisisegi5,\"m\")\n",
    "print(f\"luas dari segi lima sama sisi adalah\",luassegi5,\"m^2\")"
   ]
  },
  {
   "attachments": {},
   "cell_type": "markdown",
   "metadata": {},
   "source": [
    "## 2."
   ]
  },
  {
   "attachments": {},
   "cell_type": "markdown",
   "metadata": {},
   "source": [
    "Taman bermain ANCOL memiliki berbagai wahana, salah satunya adalah bianglala. Harga tiket yang dijual berbeda tergantung dengan kategori nya. Harga tiket bagi orang dewasa atau yang berumur lebih dari 17 tahun adalah Rp 110.000 , harga tiket untuk anak-anak usia 6-16 tahun adalah Rp. 75.000 , sedangkan untuk usia dibawahnya tidak dikenakan biaya. Pada wahana bianglala sedang ada \"Promo RAMADHAN\" sebesar 20% bagi pembelian tiket lebih dari 2 pcs.\n",
    "\n",
    "Keluarga Anya Forger ingin menaiki wahana bianglala tersebut, Anya (usia 18 tahun) pergi bersama ayah dan ibunya beserta dua adiknya, Harry (usia 8 tahun) dan Taylor (usia 4 tahun). \n",
    "\n",
    "> Buatlah program sederhana untuk menghitung harga total dari pembelian tiket  oleh keluarga Anya dan harga tiket setelah mendapatkan diskon"
   ]
  },
  {
   "cell_type": "code",
   "execution_count": 3,
   "metadata": {},
   "outputs": [
    {
     "name": "stdout",
     "output_type": "stream",
     "text": [
      "Harga total sebelum diskon: Rp 405000\n",
      "Diskon: Rp 81000.0\n",
      "Harga total setelah diskon: Rp 324000.0\n"
     ]
    }
   ],
   "source": [
    "#harga wahana\n",
    "harga_diatas17th = 110000\n",
    "harga_sampai16th = 75000\n",
    "\n",
    "#tiket dibeli\n",
    "jumlah_diatas17th = 3 # ayah, ibu dan anya\n",
    "Jumlah_sampai16th = 1 #harry\n",
    "jumlah_dibawahumur = 0 #taylor\n",
    "\n",
    "#harga total sebelum diskon\n",
    "harga_sebelum_diskon = (harga_diatas17th * jumlah_diatas17th) + (harga_sampai16th * Jumlah_sampai16th)\n",
    "\n",
    "#promo ramadhan\n",
    "if jumlah_diatas17th + Jumlah_sampai16th > 2:\n",
    "  diskon = 0.2 * harga_sebelum_diskon\n",
    "else:\n",
    "  diskon = 0\n",
    "\n",
    "#harga total setelah diskon\n",
    "harga_setelah_diskon = harga_sebelum_diskon - diskon\n",
    "\n",
    "#harga total dan harga setelah diskon\n",
    "print(\"Harga total sebelum diskon: Rp\", harga_sebelum_diskon)\n",
    "print(\"Diskon: Rp\", diskon)\n",
    "print(\"Harga total setelah diskon: Rp\", harga_setelah_diskon)\n"
   ]
  },
  {
   "attachments": {},
   "cell_type": "markdown",
   "metadata": {},
   "source": [
    "## 3. "
   ]
  },
  {
   "attachments": {},
   "cell_type": "markdown",
   "metadata": {},
   "source": [
    "diberikan list aslab sebagai berikut:\n",
    "```python\n",
    "list_aslab = [\n",
    "    {\"nama\": \"Berlian Safri Prakoso\", \"nim\": \"I0320017\", \"kontak\": \"0858XXXXXXXX\"},\n",
    "    {\"nama\": \"Halidya Siti Hanifah\", \"nim\": \"I0320044\", \"kontak\": \"0878XXXXXXXX\"},\n",
    "    {\"nama\": \"Nurki Putra Mahardika\", \"nim\": \"I0320076\", \"kontak\": \"0877XXXXXXXX\"},\n",
    "    {\"nama\": \"Aji Manarul Aziz\", \"nim\": \"I0320119\", \"kontak\": \"0812XXXXXXXX\"},\n",
    "    {\"nama\": \"Alica Ayu Fitriani\", \"nim\": \"I0320121\", \"kontak\": \"0896XXXXXXXX\"},\n",
    "    {\"nama\": \"Dendy Halim Kusuma\", \"nim\": \"I0320125\", \"kontak\": \"0822XXXXXXXX\"}\n",
    "]\n",
    "```\n",
    "* **A** Tuliskan kode untuk mengakses informasi tentang \"nama\" dari semua aslab mulai dari index 1 sampai 5\n",
    "* **B** Tambahkan informasi berikut pada data aslab dan tampilkan hasilnya:\n",
    "```python\n",
    "    surel = [\"berlian@student.uns.ac.id\",\n",
    "          \"halidya@student.uns.ac.id\",\n",
    "          \"nurki@student.uns.ac.id\",\n",
    "          \"manarul@student.uns.ac.id\",\n",
    "          \"alica@student.uns.ac.id\",\n",
    "          \"dendy@student.uns.ac.id\"]\n",
    "```\n",
    "* **C** Hapus nilai pada kunci \"kontak\" pada list aslab dan tampilkan hasilnya\n",
    "> *note: kalian hanya boleh menggunakan key-value pair yang disebutkan di dalam teks, tanpa menggunakan informasi tambahan yang diambil pada list yang ada*"
   ]
  },
  {
   "cell_type": "code",
   "execution_count": 5,
   "metadata": {},
   "outputs": [
    {
     "name": "stdout",
     "output_type": "stream",
     "text": [
      "Halidya Siti Hanifah\n",
      "Nurki Putra Mahardika\n",
      "Aji Manarul Aziz\n",
      "Alica Ayu Fitriani\n",
      "Dendy Halim Kusuma\n"
     ]
    }
   ],
   "source": [
    "#A Mengakses informasi tentang aslab\n",
    "list_aslab = [\n",
    "    {\"nama\": \"Berlian Safri Prakoso\", \"nim\": \"I0320017\", \"kontak\": \"0858XXXXXXXX\"},\n",
    "    {\"nama\": \"Halidya Siti Hanifah\", \"nim\": \"I0320044\", \"kontak\": \"0878XXXXXXXX\"},\n",
    "    {\"nama\": \"Nurki Putra Mahardika\", \"nim\": \"I0320076\", \"kontak\": \"0877XXXXXXXX\"},\n",
    "    {\"nama\": \"Aji Manarul Aziz\", \"nim\": \"I0320119\", \"kontak\": \"0812XXXXXXXX\"},\n",
    "    {\"nama\": \"Alica Ayu Fitriani\", \"nim\": \"I0320121\", \"kontak\": \"0896XXXXXXXX\"},\n",
    "    {\"nama\": \"Dendy Halim Kusuma\", \"nim\": \"I0320125\", \"kontak\": \"0822XXXXXXXX\"}\n",
    "]\n",
    "\n",
    "for i in range(1, 6):\n",
    "  print(list_aslab[i][\"nama\"])\n",
    "\n"
   ]
  },
  {
   "cell_type": "code",
   "execution_count": 9,
   "metadata": {},
   "outputs": [
    {
     "name": "stdout",
     "output_type": "stream",
     "text": [
      "Nama: Berlian Safri Prakoso\n",
      "NIM: I0320017\n",
      "Kontak: 0858XXXXXXXX\n",
      "Surel: berlian@student.uns.ac.id\n",
      "\n",
      "Nama: Halidya Siti Hanifah\n",
      "NIM: I0320044\n",
      "Kontak: 0878XXXXXXXX\n",
      "Surel: halidya@student.uns.ac.id\n",
      "\n",
      "Nama: Nurki Putra Mahardika\n",
      "NIM: I0320076\n",
      "Kontak: 0877XXXXXXXX\n",
      "Surel: nurki@student.uns.ac.id\n",
      "\n",
      "Nama: Aji Manarul Aziz\n",
      "NIM: I0320119\n",
      "Kontak: 0812XXXXXXXX\n",
      "Surel: manarul@student.uns.ac.id\n",
      "\n",
      "Nama: Alica Ayu Fitriani\n",
      "NIM: I0320121\n",
      "Kontak: 0896XXXXXXXX\n",
      "Surel: alica@student.uns.ac.id\n",
      "\n",
      "Nama: Dendy Halim Kusuma\n",
      "NIM: I0320125\n",
      "Kontak: 0822XXXXXXXX\n",
      "Surel: dendy@student.uns.ac.id\n",
      "\n",
      "Nama: Berlian Safri Prakoso\n",
      "NIM: I0320017\n",
      "Surel: berlian@student.uns.ac.id\n",
      "\n",
      "Nama: Halidya Siti Hanifah\n",
      "NIM: I0320044\n",
      "Surel: halidya@student.uns.ac.id\n",
      "\n",
      "Nama: Nurki Putra Mahardika\n",
      "NIM: I0320076\n",
      "Surel: nurki@student.uns.ac.id\n",
      "\n",
      "Nama: Aji Manarul Aziz\n",
      "NIM: I0320119\n",
      "Surel: manarul@student.uns.ac.id\n",
      "\n",
      "Nama: Alica Ayu Fitriani\n",
      "NIM: I0320121\n",
      "Surel: alica@student.uns.ac.id\n",
      "\n",
      "Nama: Dendy Halim Kusuma\n",
      "NIM: I0320125\n",
      "Surel: dendy@student.uns.ac.id\n",
      "\n"
     ]
    }
   ],
   "source": [
    "#B Menambah surel pada data aslab\n",
    "surel = [\"berlian@student.uns.ac.id\",\n",
    "          \"halidya@student.uns.ac.id\",\n",
    "          \"nurki@student.uns.ac.id\",\n",
    "          \"manarul@student.uns.ac.id\",\n",
    "          \"alica@student.uns.ac.id\",\n",
    "          \"dendy@student.uns.ac.id\"]\n",
    "\n",
    "for i in range(len(list_aslab)):\n",
    "    list_aslab[i][\"surel\"] = surel[i]\n",
    "\n",
    "# Tampilkan hasil\n",
    "for i in range(len(list_aslab)):\n",
    "  print(\"Nama:\", list_aslab[i][\"nama\"])\n",
    "  print(\"NIM:\", list_aslab[i][\"nim\"])\n",
    "  print(\"Kontak:\", list_aslab[i][\"kontak\"])\n",
    "  print(\"Surel:\", list_aslab[i][\"surel\"])\n",
    "  print()\n",
    "\n",
    "#C Menghapus kontak pada data aslab\n",
    "\n",
    "for i in range(len(list_aslab)):\n",
    "  del list_aslab[i][\"kontak\"]\n",
    "\n",
    "# Tampilkan hasil\n",
    "for i in range(len(list_aslab)):\n",
    "  print(\"Nama:\", list_aslab[i][\"nama\"])\n",
    "  print(\"NIM:\", list_aslab[i][\"nim\"])\n",
    "  print(\"Surel:\", list_aslab[i][\"surel\"])\n",
    "  print()\n",
    "\n",
    "\n"
   ]
  }
 ],
 "metadata": {
  "kernelspec": {
   "display_name": "Python 3",
   "language": "python",
   "name": "python3"
  },
  "language_info": {
   "codemirror_mode": {
    "name": "ipython",
    "version": 3
   },
   "file_extension": ".py",
   "mimetype": "text/x-python",
   "name": "python",
   "nbconvert_exporter": "python",
   "pygments_lexer": "ipython3",
   "version": "3.11.2"
  },
  "orig_nbformat": 4,
  "vscode": {
   "interpreter": {
    "hash": "5addf786bcd861d1ce5006f23111f8cbb206731e5b61b0a5632ba9e0252558a8"
   }
  }
 },
 "nbformat": 4,
 "nbformat_minor": 2
}
